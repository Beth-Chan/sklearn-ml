{
 "cells": [
  {
   "cell_type": "code",
   "execution_count": 2,
   "id": "handled-slave",
   "metadata": {},
   "outputs": [
    {
     "name": "stdout",
     "output_type": "stream",
     "text": [
      "[0]\n"
     ]
    }
   ],
   "source": [
    "from sklearn.tree import DecisionTreeClassifier\n",
    "\n",
    "X = [[1, 2], [3, 4], [5, 6], [7, 8], [9, 10]]\n",
    "y = [1, 0, 0, 1, 1]\n",
    "\n",
    "model = DecisionTreeClassifier(random_state=0)\n",
    "model.fit(X, y)\n",
    "\n",
    "print(model.predict([[5, 5]]))"
   ]
  },
  {
   "cell_type": "code",
   "execution_count": null,
   "id": "small-carbon",
   "metadata": {},
   "outputs": [],
   "source": [
    "# 数据读取与预处理\n",
    "import pandas as pd\n",
    "df = pd.read_excel('员工离职预测模型.xlsx')\n",
    "df.head()\n",
    "# Python数学建模无法识别文本内容\n",
    "df.replace({'工资': {'低': 0, '中': 1, '高': 2}})\n",
    "df.head()\n",
    "# 提取特征变量和目标变量\n",
    "X = df.drop(columns='离职')\n",
    "y = df['离职']\n",
    "# 划分训练集和测试集（用来检验模型训练的结果），一般是八二分或者七三分\n",
    "from sklearn.model_selection import train_test_split\n",
    "X_train, X_test, y_train, y_test = train_test_split(X, y,\n",
    "                                                   test_size=0.2, random_state=123)\n",
    "# 模型训练及搭建\n",
    "from sklearn.tree import DecisionTreeClassifier\n",
    "model = DecisionTreeClassifier(max_depth=3, random_state=123)\n",
    "model.fit(X_train, y_train)\n",
    "# 模型预测及评估\n",
    "y_pred = model.predict(X_test)\n",
    "a = pd.DataFrame() # 创建一个空的DataFrame\n",
    "a['预测值'] = list(y_pred)\n",
    "a['实际值'] = list(y_test)\n",
    "\n",
    "from sklearn.metrics import accuracy_score\n",
    "# score输出结果是0.9573，即3000个测试集数据中，有2872人预测结果和实际结果相符\n",
    "score = accuracy_score(y_pred, y_test) \n",
    "\n",
    "# 分类决策树模型本质预测的并不是准确的0或1的分类，而是预测其属于某一分类的概率\n",
    "# y_pred_proba是一个二维数组，其左侧一列数为分类为0的概率，右侧一列数为分类为1的概率\n",
    "# 查看预测属于各个分类的概率\n",
    "y_pred_proba = model.predict_proba(X_test)\n",
    "b = pd.DataFrame(y_pred_proba, columns=['不离职概率', '离职概率'])\n",
    "# 对于分类模型而言，不仅关心其预测的准确度，更关心两个指标：\n",
    "# 命中率（TPR）：所有实际离职的员工中被预测为离职的比率\n",
    "# 假警报率（FPR）：所有实际不离职的员工中被预测为离职的比率\n",
    "# 阈值（thres）\n",
    "# 即通过两者绘制的ROC曲线来评判模型\n",
    "from sklearn.metrics import roc_curve\n",
    "fpr, tpr, thres = roc_curve(y_test,  y_pred_proba[:,1])\n",
    "# 可以查看不同阈值下的命中率和假警报率\n",
    "a = pd.DataFrame() # 创建一个空DataFrame\n",
    "a['阈值'] = list(thres)\n",
    "a['命中率'] = list(tpr)\n",
    "a['假警报率'] = list(fpr)\n",
    "# 模型的AUC值\n",
    "from sklearn.metrics import roc_auc_score\n",
    "score = roc_auc_score(y_test, y_pred_proba[:,1])\n",
    "\n",
    "# 已知不同阈值下的假警报率和命中率，可通过matplotlib库来绘制ROC曲线\n",
    "import matplotlib.pyplot as plt\n",
    "plt.plot(fpr, tpr)\n",
    "plt.show()\n",
    "\n",
    "# 特征重要性评估\n",
    "# 整理特征重要性，方便结果呈现\n",
    "features = X.columns # 获取特征名称\n",
    "importances = model.feature_importances_ # 获取特征重要性\n",
    "# 通过二维表格形式显示\n",
    "importances_df = pd.DataFrame()\n",
    "importances_df['特征名称'] = features\n",
    "importances_df['特征重要性'] = importances\n",
    "importances_df.sort_values('特征重要性', ascending=False)\n",
    "\n",
    "# 这三行\n",
    "# importances_df = pd.DataFrame()\n",
    "# importances_df['特征名称'] = features\n",
    "# importances_df['特征重要性'] = importances\n",
    "# 也可以写成：\n",
    "importances_df = pd.DataFrame([feature, importances], index=['特征名称', '特征重要性'])\n",
    "\n",
    "# 如果想将决策树模型可视化展示出来，可使用Python的graphviz插件\n",
    "# 模型可视化呈现只要是为了演示和教学，在真正实战中应用较少"
   ]
  },
  {
   "cell_type": "markdown",
   "id": "cultural-counter",
   "metadata": {},
   "source": [
    "![](./decision-tree.png)"
   ]
  },
  {
   "cell_type": "markdown",
   "id": "heated-point",
   "metadata": {},
   "source": [
    "根节点根据满意度是否<=4.65作为分类依据，\n",
    "它当前基尼系数是0.365，样本数为12000，\n",
    "value的第一个值9120表示是否离职中的0的分类，第一个值2880表示是否离职中的1的分类，\n",
    "class表示分类结果，这时9120不离职比2880离职大，所以分类结果是不离职。\n",
    "不过根节点的分类结果没有意义，主要看最后叶子节点的分类。\n",
    "叶子节点基尼系数是0时，证明纯度已经很高，虽然有基尼系数不是0的叶子节点，为了控制过拟合，限制树的最大深度是3"
   ]
  }
 ],
 "metadata": {
  "kernelspec": {
   "display_name": "Python 3",
   "language": "python",
   "name": "python3"
  },
  "language_info": {
   "codemirror_mode": {
    "name": "ipython",
    "version": 3
   },
   "file_extension": ".py",
   "mimetype": "text/x-python",
   "name": "python",
   "nbconvert_exporter": "python",
   "pygments_lexer": "ipython3",
   "version": "3.8.5"
  }
 },
 "nbformat": 4,
 "nbformat_minor": 5
}
