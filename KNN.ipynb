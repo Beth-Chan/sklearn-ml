{
 "cells": [
  {
   "cell_type": "code",
   "execution_count": 1,
   "id": "killing-surge",
   "metadata": {},
   "outputs": [],
   "source": [
    "# 算法：SVM、KNN近邻、决策树、随机森林、逻辑回归、朴素贝叶斯算法等等。\n",
    "# Identifying to which category an object belongs to\n",
    "# 应用：分类算法常用于：\n",
    "# 过滤垃圾邮件（朴素贝叶斯）；\n",
    "# 图像识别\n",
    "# 语言检测；\n",
    "# 查找相似文档；\n",
    "# 情感分析\n",
    "# 识别手写字母或数字\n",
    "# 欺诈侦测\n",
    "\n",
    "# KNN K近邻算法: Nearest Neighbors Classification\n",
    "# k定义多少个邻居\n",
    "# 距离公式：欧式距离\n",
    "\n",
    "import numpy as np\n",
    "import pandas as pd\n",
    "from sklearn.neighbors import KNeighborsClassifier"
   ]
  },
  {
   "cell_type": "code",
   "execution_count": 2,
   "id": "peaceful-venezuela",
   "metadata": {},
   "outputs": [],
   "source": [
    "# 分类：电影类别\n",
    "# 动作片 武打镜头：碟中谍6，杀死bill\n",
    "# 爱情片 接吻镜头：泰坦尼克号\n",
    "# 属性：武打镜头，接吻镜头\n",
    "# 量化：数字化\n",
    "# eg: 金融量化"
   ]
  },
  {
   "cell_type": "code",
   "execution_count": 9,
   "id": "competent-register",
   "metadata": {},
   "outputs": [],
   "source": [
    "movie = pd.read_excel('./movies.xlsx', sheet_name=1)\n",
    "# data（武打镜头和接吻镜头的数字比重） target(分类情况)\n",
    "# 选择第二列第三列data\n",
    "data = movie.iloc[:,1:3]\n",
    "target = movie['分类情况']\n",
    "display(data,target)"
   ]
  },
  {
   "cell_type": "code",
   "execution_count": 10,
   "id": "fleet-refund",
   "metadata": {},
   "outputs": [],
   "source": [
    "type(data)"
   ]
  },
  {
   "cell_type": "code",
   "execution_count": 5,
   "id": "reverse-daniel",
   "metadata": {
    "collapsed": true
   },
   "outputs": [],
   "source": [
    "# 训练，算法（学习，比如模拟考）\n",
    "knn = KNeighborsClassifier(n_neighbors=5) # 邻居默认是5，可调大调小\n",
    "knn.fit(data,target)"
   ]
  },
  {
   "cell_type": "code",
   "execution_count": 7,
   "id": "intellectual-manor",
   "metadata": {},
   "outputs": [
    {
     "data": {
      "text/html": [
       "<div>\n",
       "<style scoped>\n",
       "    .dataframe tbody tr th:only-of-type {\n",
       "        vertical-align: middle;\n",
       "    }\n",
       "\n",
       "    .dataframe tbody tr th {\n",
       "        vertical-align: top;\n",
       "    }\n",
       "\n",
       "    .dataframe thead th {\n",
       "        text-align: right;\n",
       "    }\n",
       "</style>\n",
       "<table border=\"1\" class=\"dataframe\">\n",
       "  <thead>\n",
       "    <tr style=\"text-align: right;\">\n",
       "      <th></th>\n",
       "      <th>武打镜头</th>\n",
       "      <th>接吻镜头</th>\n",
       "    </tr>\n",
       "  </thead>\n",
       "  <tbody>\n",
       "    <tr>\n",
       "      <th>0</th>\n",
       "      <td>100</td>\n",
       "      <td>3</td>\n",
       "    </tr>\n",
       "    <tr>\n",
       "      <th>1</th>\n",
       "      <td>67</td>\n",
       "      <td>2</td>\n",
       "    </tr>\n",
       "    <tr>\n",
       "      <th>2</th>\n",
       "      <td>1</td>\n",
       "      <td>10</td>\n",
       "    </tr>\n",
       "  </tbody>\n",
       "</table>\n",
       "</div>"
      ],
      "text/plain": [
       "   武打镜头  接吻镜头\n",
       "0   100     3\n",
       "1    67     2\n",
       "2     1    10"
      ]
     },
     "execution_count": 7,
     "metadata": {},
     "output_type": "execute_result"
    }
   ],
   "source": [
    "# 预测，应用（高考）\n",
    "# 碟中谍6：100，3\n",
    "# 谍影重重5：67，2\n",
    "# 前任2：1，10\n",
    "X_test = pd.DataFrame({'武打镜头':[100,67,1],'接吻镜头':[3,2,10]})\n",
    "X_test"
   ]
  },
  {
   "cell_type": "code",
   "execution_count": 8,
   "id": "juvenile-environment",
   "metadata": {
    "collapsed": true
   },
   "outputs": [],
   "source": [
    "# 计算机根据规则返回结果，返回array(['动作片'，'动作片'，'爱情片'], dtype=object)\n",
    "knn.predict(X_test)"
   ]
  },
  {
   "cell_type": "code",
   "execution_count": null,
   "id": "blank-gravity",
   "metadata": {},
   "outputs": [],
   "source": []
  }
 ],
 "metadata": {
  "kernelspec": {
   "display_name": "Python 3",
   "language": "python",
   "name": "python3"
  },
  "language_info": {
   "codemirror_mode": {
    "name": "ipython",
    "version": 3
   },
   "file_extension": ".py",
   "mimetype": "text/x-python",
   "name": "python",
   "nbconvert_exporter": "python",
   "pygments_lexer": "ipython3",
   "version": "3.8.5"
  }
 },
 "nbformat": 4,
 "nbformat_minor": 5
}
